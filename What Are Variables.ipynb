{
 "cells": [
  {
   "cell_type": "code",
   "execution_count": 1,
   "metadata": {},
   "outputs": [
    {
     "name": "stdout",
     "output_type": "stream",
     "text": [
      "Hello World!!!\n"
     ]
    }
   ],
   "source": [
    "print(\"Hello World!!!\")"
   ]
  },
  {
   "cell_type": "code",
   "execution_count": 2,
   "metadata": {},
   "outputs": [
    {
     "name": "stdout",
     "output_type": "stream",
     "text": [
      "1\n"
     ]
    }
   ],
   "source": [
    "a = 1\n",
    "b = a\n",
    "a = 21\n",
    "print(b)"
   ]
  },
  {
   "cell_type": "code",
   "execution_count": 7,
   "metadata": {},
   "outputs": [
    {
     "name": "stdout",
     "output_type": "stream",
     "text": [
      "v1 is kirti\n",
      "v2 is parghi\n",
      "v1 is parghi\n",
      "v2 is kirti\n"
     ]
    }
   ],
   "source": [
    "# swapping 2 variables\n",
    "v1 = \"kirti\"\n",
    "v2 = \"parghi\"\n",
    "print(\"v1 is \" + v1)\n",
    "print(\"v2 is \" + v2)\n",
    "tmp = v1\n",
    "v1 = v2\n",
    "v2 = tmp\n",
    "print(\"v1 is \" + v1)\n",
    "print(\"v2 is \" + v2)"
   ]
  },
  {
   "cell_type": "code",
   "execution_count": 12,
   "metadata": {},
   "outputs": [
    {
     "name": "stdout",
     "output_type": "stream",
     "text": [
      "a is less than b\n",
      "for sure\n",
      "out of if condition\n"
     ]
    }
   ],
   "source": [
    "# IF ELSE STATEMENTS\n",
    "# colon (:) - indicates starting of if condition\n",
    "# statements inside if condition must start with 4 spaces otherwise \n",
    "# python server will not recognise the statements are part of if condition\n",
    "a = 1\n",
    "b = 2\n",
    "if a < b:\n",
    "    print(\"a is less than b\")\n",
    "    print(\"for sure\")\n",
    "else:\n",
    "    print(\"a is not less than b\")\n",
    "    print(\"Seriously!!!\")\n",
    "print(\"out of if condition\")"
   ]
  },
  {
   "cell_type": "code",
   "execution_count": 17,
   "metadata": {},
   "outputs": [
    {
     "name": "stdout",
     "output_type": "stream",
     "text": [
      "c is less than d\n",
      "for sure\n"
     ]
    }
   ],
   "source": [
    "# IF ELSE IF STATEMENTS\n",
    "c = 10\n",
    "d = 20\n",
    "if c < d:\n",
    "    print(\"c is less than d\")\n",
    "    print(\"for sure\")\n",
    "elif c < b:\n",
    "    print(\"c is less than b\")\n",
    "    print(\"for sure\")\n",
    "else:\n",
    "    print(\"c is neither less than d or b\")    "
   ]
  },
  {
   "cell_type": "code",
   "execution_count": 23,
   "metadata": {},
   "outputs": [
    {
     "name": "stdout",
     "output_type": "stream",
     "text": [
      "120\n"
     ]
    }
   ],
   "source": [
    "# WHAT IS A FUNCTION\n",
    "# A FUNCTION IS A COLLECTION OF INSTRUCTIONS OR COLLECTION OF CODE\n",
    "def factorial(number):\n",
    "    fact = 1\n",
    "    for i in range(1, number+1):\n",
    "        fact *= i\n",
    "    print(fact)\n",
    "factorial(5)"
   ]
  },
  {
   "cell_type": "code",
   "execution_count": 24,
   "metadata": {},
   "outputs": [
    {
     "name": "stdout",
     "output_type": "stream",
     "text": [
      "Orange\n",
      "Banana\n",
      "Cherry\n"
     ]
    }
   ],
   "source": [
    "# ASSIGN VALUES TO MULTIPLE VARIABLES\n",
    "x, y, z = \"Orange\", \"Banana\", \"Cherry\"\n",
    "print(x)\n",
    "print(y)\n",
    "print(z)"
   ]
  },
  {
   "cell_type": "code",
   "execution_count": 25,
   "metadata": {},
   "outputs": [
    {
     "name": "stdout",
     "output_type": "stream",
     "text": [
      "Orange\n",
      "Orange\n",
      "Orange\n"
     ]
    }
   ],
   "source": [
    "x = y = z = \"Orange\"\n",
    "print(x)\n",
    "print(y)\n",
    "print(z)"
   ]
  },
  {
   "cell_type": "code",
   "execution_count": 26,
   "metadata": {},
   "outputs": [
    {
     "name": "stdout",
     "output_type": "stream",
     "text": [
      "1.0\n",
      "2\n",
      "(1+0j)\n",
      "<class 'float'>\n",
      "<class 'int'>\n",
      "<class 'complex'>\n"
     ]
    }
   ],
   "source": [
    "# VARIABLE TYPE CONVERSION\n",
    "x = 1 # int\n",
    "y = 2.8 # float\n",
    "z = 1j # complex\n",
    "\n",
    "#convert from int to float:\n",
    "a = float(x)\n",
    "\n",
    "#convert from float to int:\n",
    "b = int(y)\n",
    "\n",
    "#convert from int to complex:\n",
    "c = complex(x)\n",
    "\n",
    "print(a)\n",
    "print(b)\n",
    "print(c)\n",
    "\n",
    "print(type(a))\n",
    "print(type(b))\n",
    "print(type(c))"
   ]
  },
  {
   "cell_type": "code",
   "execution_count": 28,
   "metadata": {},
   "outputs": [
    {
     "name": "stdout",
     "output_type": "stream",
     "text": [
      "4\n"
     ]
    }
   ],
   "source": [
    "# GENERATE RANDOM NUMBERS\n",
    "import random\n",
    "\n",
    "print(random.randrange(1,10))"
   ]
  },
  {
   "cell_type": "code",
   "execution_count": 29,
   "metadata": {},
   "outputs": [
    {
     "name": "stdout",
     "output_type": "stream",
     "text": [
      "Lorem ipsum dolor sit amet,\n",
      "consectetur adipiscing elit,\n",
      "sed do eiusmod tempor incididunt\n",
      "ut labore et dolore magna aliqua.\n"
     ]
    }
   ],
   "source": [
    "# MULTIPLE LINES OF STRING LITERALS\n",
    "a = \"\"\"Lorem ipsum dolor sit amet,\n",
    "consectetur adipiscing elit,\n",
    "sed do eiusmod tempor incididunt\n",
    "ut labore et dolore magna aliqua.\"\"\"\n",
    "print(a)"
   ]
  },
  {
   "cell_type": "code",
   "execution_count": 31,
   "metadata": {},
   "outputs": [
    {
     "name": "stdout",
     "output_type": "stream",
     "text": [
      "e\n",
      "llo\n"
     ]
    }
   ],
   "source": [
    "# STRING ARRAY\n",
    "a = \"Hello, World!\"\n",
    "print(a[1])\n",
    "print(a[2:5])"
   ]
  },
  {
   "cell_type": "code",
   "execution_count": 40,
   "metadata": {},
   "outputs": [
    {
     "name": "stdout",
     "output_type": "stream",
     "text": [
      "Hello, World!\n",
      "24\n",
      "hello, world!\n",
      "HELLO, WORLD!\n",
      "          Jello, World! \n",
      "['          Hello', ' World! ']\n"
     ]
    }
   ],
   "source": [
    "# string functions\n",
    "a = \"          Hello, World! \"\n",
    "print(a.strip()) # returns \"Hello, World!\"\n",
    "print(len(a)) # length of string\n",
    "print(a.lower().strip()) # convert string to lower case and remove white spaces\n",
    "print(a.upper().strip()) # convert string to upper case and remove white spaces\n",
    "print(a.replace(\"H\", \"J\")) # replace character\n",
    "print(a.split(\",\")) # returns ['Hello', ' World!']"
   ]
  },
  {
   "cell_type": "code",
   "execution_count": 42,
   "metadata": {},
   "outputs": [
    {
     "name": "stdout",
     "output_type": "stream",
     "text": [
      "My name is kirti, and I am 26\n"
     ]
    }
   ],
   "source": [
    "age = 26\n",
    "txt = \"My name is kirti, and I am {}\"\n",
    "print(txt.format(age)) # insert number to string"
   ]
  },
  {
   "cell_type": "code",
   "execution_count": 49,
   "metadata": {},
   "outputs": [
    {
     "name": "stdout",
     "output_type": "stream",
     "text": [
      "apple\n",
      "blackcurrant\n",
      "blackcurrant\n",
      "banana\n",
      "cherry\n",
      "Yes, 'banana' is in the fruits list\n",
      "blackcurrant\n",
      "orange\n",
      "banana\n",
      "cherry\n"
     ]
    }
   ],
   "source": [
    "thislist = [\"apple\", \"banana\", \"cherry\"] # list or array\n",
    "print(thislist[0])\n",
    "thislist[0] = \"blackcurrant\"\n",
    "print(thislist[0])\n",
    "for x in thislist:\n",
    "    print(x)\n",
    "if \"banana\" in thislist:\n",
    "    print(\"Yes, 'banana' is in the fruits list\")"
   ]
  },
  {
   "cell_type": "code",
   "execution_count": 50,
   "metadata": {},
   "outputs": [
    {
     "name": "stdout",
     "output_type": "stream",
     "text": [
      "blackcurrant\n",
      "orange\n",
      "orange\n",
      "banana\n",
      "cherry\n"
     ]
    }
   ],
   "source": [
    "thislist.insert(1, \"orange\")\n",
    "for x in thislist:\n",
    "    print(x)"
   ]
  },
  {
   "cell_type": "code",
   "execution_count": 52,
   "metadata": {},
   "outputs": [
    {
     "name": "stdout",
     "output_type": "stream",
     "text": [
      "blackcurrant\n",
      "banana\n",
      "cherry\n"
     ]
    }
   ],
   "source": [
    "thislist.remove(\"orange\")\n",
    "for x in thislist:\n",
    "    print(x)"
   ]
  },
  {
   "cell_type": "code",
   "execution_count": 53,
   "metadata": {},
   "outputs": [
    {
     "name": "stdout",
     "output_type": "stream",
     "text": [
      "['blackcurrant', 'banana']\n"
     ]
    }
   ],
   "source": [
    "thislist.pop()\n",
    "print(thislist)"
   ]
  },
  {
   "cell_type": "code",
   "execution_count": 54,
   "metadata": {},
   "outputs": [
    {
     "name": "stdout",
     "output_type": "stream",
     "text": [
      "['banana']\n"
     ]
    }
   ],
   "source": [
    "del thislist[0]\n",
    "print(thislist)"
   ]
  },
  {
   "cell_type": "code",
   "execution_count": 55,
   "metadata": {},
   "outputs": [
    {
     "name": "stdout",
     "output_type": "stream",
     "text": [
      "[]\n"
     ]
    }
   ],
   "source": [
    "thislist.clear()\n",
    "print(thislist)"
   ]
  },
  {
   "cell_type": "code",
   "execution_count": 56,
   "metadata": {},
   "outputs": [
    {
     "name": "stdout",
     "output_type": "stream",
     "text": [
      "['apple', 'banana', 'cherry']\n"
     ]
    }
   ],
   "source": [
    "thislist = [\"apple\", \"banana\", \"cherry\"]\n",
    "mylist = thislist.copy() # copy a list\n",
    "print(mylist)"
   ]
  },
  {
   "cell_type": "code",
   "execution_count": 58,
   "metadata": {},
   "outputs": [
    {
     "name": "stdout",
     "output_type": "stream",
     "text": [
      "['apple', 'banana', 'cherry']\n"
     ]
    }
   ],
   "source": [
    "thislist = [\"apple\", \"banana\", \"cherry\"]\n",
    "mylist = list(thislist) # make copy of list with list method\n",
    "print(mylist)"
   ]
  },
  {
   "cell_type": "code",
   "execution_count": 59,
   "metadata": {},
   "outputs": [
    {
     "name": "stdout",
     "output_type": "stream",
     "text": [
      "['apple', 'banana', 'cherry']\n"
     ]
    }
   ],
   "source": [
    "thislist = list((\"apple\", \"banana\", \"cherry\")) # note the double round-brackets\n",
    "print(thislist)"
   ]
  },
  {
   "cell_type": "code",
   "execution_count": 62,
   "metadata": {},
   "outputs": [
    {
     "name": "stdout",
     "output_type": "stream",
     "text": [
      "{'banana', 'apple', 'cherry'}\n",
      "{'banana', 'orange', 'apple', 'cherry'}\n",
      "{'grapes', 'banana', 'mango', 'cherry', 'orange', 'apple'}\n"
     ]
    }
   ],
   "source": [
    "# Set - a collection which is unordered and unindexed\n",
    "# Sets are unordered, so you cannot be sure in which order the items will appear.\n",
    "thisset = {\"apple\", \"banana\", \"cherry\"}\n",
    "print(thisset)\n",
    "thisset.add(\"orange\") # add element\n",
    "print(thisset)\n",
    "thisset.update([\"orange\", \"mango\", \"grapes\"]) # update set\n",
    "print(thisset)"
   ]
  },
  {
   "cell_type": "code",
   "execution_count": 69,
   "metadata": {},
   "outputs": [
    {
     "name": "stdout",
     "output_type": "stream",
     "text": [
      "{'brand': 'Lamborghini', 'model': 'Lamborghini Urus', 'year': 1970}\n",
      "Lamborghini Urus\n",
      "Lamborghini\n",
      "Lamborghini Urus\n",
      "2016\n",
      "Lamborghini\n",
      "Lamborghini Urus\n",
      "2016\n",
      "brand Lamborghini\n",
      "model Lamborghini Urus\n",
      "year 2016\n"
     ]
    }
   ],
   "source": [
    "# dictionary\n",
    "thisdict =\t{\n",
    "  \"brand\": \"Lamborghini\",\n",
    "  \"model\": \"Lamborghini Urus\",\n",
    "  \"year\": 1970\n",
    "}\n",
    "print(thisdict)\n",
    "print(thisdict[\"model\"])\n",
    "thisdict[\"year\"] = 2016\n",
    "for x in thisdict:\n",
    "    print(thisdict[x])\n",
    "#another way of accessing values from dictionary    \n",
    "for x in thisdict.values():\n",
    "    print(x)\n",
    "# loop through both keys and values\n",
    "for x, y in thisdict.items():\n",
    "    print(x, y)\n",
    "# OTHER FUNCTIONS - len(dictionaryname), clear(), del dictionaryname, copy(), pop(keyname), popItem()"
   ]
  },
  {
   "cell_type": "code",
   "execution_count": 70,
   "metadata": {},
   "outputs": [
    {
     "name": "stdout",
     "output_type": "stream",
     "text": [
      "1\n",
      "2\n",
      "3\n",
      "4\n",
      "5\n"
     ]
    }
   ],
   "source": [
    "#while loop\n",
    "i = 1\n",
    "while i < 6:\n",
    "    print(i)\n",
    "    if i == 1:\n",
    "        continue\n",
    "    if i == 3:\n",
    "        break\n",
    "    i += 1"
   ]
  },
  {
   "cell_type": "code",
   "execution_count": 71,
   "metadata": {},
   "outputs": [
    {
     "name": "stdout",
     "output_type": "stream",
     "text": [
      "15\n"
     ]
    }
   ],
   "source": [
    "# A lambda function is a small anonymous function.\n",
    "# A lambda function can take any number of arguments, but can only have one expression.\n",
    "x = lambda a : a + 10\n",
    "print(x(5))"
   ]
  },
  {
   "cell_type": "code",
   "execution_count": null,
   "metadata": {},
   "outputs": [],
   "source": [
    "# array functions - append, count, clear, count, extend, index, insert, pop, remove, reverse, sort"
   ]
  },
  {
   "cell_type": "code",
   "execution_count": 72,
   "metadata": {},
   "outputs": [
    {
     "name": "stdout",
     "output_type": "stream",
     "text": [
      "5\n"
     ]
    }
   ],
   "source": [
    "class MyClass:\n",
    "    x = 5\n",
    "p1 = MyClass()\n",
    "print(p1.x)"
   ]
  },
  {
   "cell_type": "code",
   "execution_count": 78,
   "metadata": {},
   "outputs": [
    {
     "name": "stdout",
     "output_type": "stream",
     "text": [
      "kirti\n",
      "26\n",
      "Hello my name is kirti\n"
     ]
    }
   ],
   "source": [
    "class Person:\n",
    "    def __init__(self, name, age):\n",
    "        self.name = name\n",
    "        self.age = age\n",
    "    \n",
    "    def myfunc(self):\n",
    "        print(\"Hello my name is \" + self.name)\n",
    "\n",
    "p1 = Person(\"kirti\", 26)\n",
    "\n",
    "print(p1.name)\n",
    "print(p1.age)\n",
    "p1.myfunc()"
   ]
  },
  {
   "cell_type": "code",
   "execution_count": 80,
   "metadata": {},
   "outputs": [
    {
     "name": "stdout",
     "output_type": "stream",
     "text": [
      "kirti parghi\n",
      "john cena\n"
     ]
    }
   ],
   "source": [
    "# inheritance\n",
    "class Person:\n",
    "    def __init__(self, fname, lname):\n",
    "        self.firstname = fname\n",
    "        self.lastname = lname\n",
    "\n",
    "    def printname(self):\n",
    "        print(self.firstname, self.lastname)\n",
    "\n",
    "#Use the Person class to create an object, and then execute the printname method:\n",
    "\n",
    "x = Person(\"kirti\", \"parghi\")\n",
    "x.printname()\n",
    "\n",
    "class Student(Person):\n",
    "    pass\n",
    "\n",
    "x = Student(\"john\", \"cena\")\n",
    "x.printname()"
   ]
  },
  {
   "cell_type": "code",
   "execution_count": 81,
   "metadata": {},
   "outputs": [
    {
     "name": "stdout",
     "output_type": "stream",
     "text": [
      "apple\n",
      "banana\n",
      "cherry\n"
     ]
    }
   ],
   "source": [
    "mytuple = (\"apple\", \"banana\", \"cherry\")\n",
    "myit = iter(mytuple) # returns iterator\n",
    "\n",
    "print(next(myit))\n",
    "print(next(myit))\n",
    "print(next(myit))"
   ]
  },
  {
   "cell_type": "code",
   "execution_count": 83,
   "metadata": {},
   "outputs": [
    {
     "name": "stdout",
     "output_type": "stream",
     "text": [
      "1\n",
      "2\n",
      "3\n",
      "4\n",
      "5\n"
     ]
    }
   ],
   "source": [
    "# create custom iterator\n",
    "class MyNumbers:\n",
    "    def __iter__(self):\n",
    "        self.a = 1\n",
    "        return self\n",
    "\n",
    "    def __next__(self):\n",
    "        if self.a <= 20:\n",
    "            x = self.a\n",
    "            self.a += 1\n",
    "            return x\n",
    "        else:\n",
    "            raise StopIteration # you can stop iterator\n",
    "\n",
    "myclass = MyNumbers()\n",
    "myiter = iter(myclass)\n",
    "\n",
    "print(next(myiter))\n",
    "print(next(myiter))\n",
    "print(next(myiter))\n",
    "print(next(myiter))\n",
    "print(next(myiter))"
   ]
  },
  {
   "cell_type": "code",
   "execution_count": 2,
   "metadata": {},
   "outputs": [
    {
     "name": "stdout",
     "output_type": "stream",
     "text": [
      "2019-08-03 16:59:59.099545\n",
      "2019\n",
      "Saturday\n",
      "August\n"
     ]
    }
   ],
   "source": [
    "# import datetime for using date object and manipulating it\n",
    "import datetime\n",
    "\n",
    "x = datetime.datetime.now()\n",
    "print(x)\n",
    "print(x.year)\n",
    "print(x.strftime(\"%A\"))\n",
    "\n",
    "x = datetime.datetime(2019, 8, 19)\n",
    "print(x.strftime(\"%B\"))"
   ]
  },
  {
   "cell_type": "code",
   "execution_count": 5,
   "metadata": {},
   "outputs": [
    {
     "name": "stdout",
     "output_type": "stream",
     "text": [
      "26\n",
      "{\"name\": \"kirti\", \"age\": 26, \"city\": \"Canada\"}\n"
     ]
    }
   ],
   "source": [
    "# working with JSON\n",
    "import json\n",
    "\n",
    "# some JSON:\n",
    "x =  '{ \"name\":\"kirti\", \"age\":26, \"city\":\"New York\"}'\n",
    "\n",
    "# parse x:\n",
    "y = json.loads(x)\n",
    "\n",
    "# the result is a Python dictionary:\n",
    "print(y[\"age\"])\n",
    "\n",
    "# a Python object (dict):\n",
    "x = {\n",
    "  \"name\": \"kirti\",\n",
    "  \"age\": 26,\n",
    "  \"city\": \"Canada\"\n",
    "}\n",
    "\n",
    "# convert into JSON:\n",
    "y = json.dumps(x)\n",
    "\n",
    "# the result is a JSON string:\n",
    "print(y)"
   ]
  },
  {
   "cell_type": "code",
   "execution_count": 6,
   "metadata": {},
   "outputs": [
    {
     "name": "stdout",
     "output_type": "stream",
     "text": [
      "{\"name\": \"John\", \"age\": 30}\n",
      "[\"apple\", \"bananas\"]\n",
      "[\"apple\", \"bananas\"]\n",
      "\"hello\"\n",
      "42\n",
      "31.76\n",
      "true\n",
      "false\n",
      "null\n"
     ]
    }
   ],
   "source": [
    "print(json.dumps({\"name\": \"John\", \"age\": 30}))\n",
    "print(json.dumps([\"apple\", \"bananas\"]))\n",
    "print(json.dumps((\"apple\", \"bananas\")))\n",
    "print(json.dumps(\"hello\"))\n",
    "print(json.dumps(42))\n",
    "print(json.dumps(31.76))\n",
    "print(json.dumps(True))\n",
    "print(json.dumps(False))\n",
    "print(json.dumps(None))"
   ]
  },
  {
   "cell_type": "code",
   "execution_count": 9,
   "metadata": {},
   "outputs": [
    {
     "name": "stdout",
     "output_type": "stream",
     "text": [
      "['ai', 'ai']\n",
      "The9rain9in9Spain\n"
     ]
    }
   ],
   "source": [
    "# reg expression\n",
    "# functions - findall, search, split, sub\n",
    "import re\n",
    "\n",
    "txt = \"The rain in Spain\"\n",
    "x = re.search(\"^The.*Spain$\", txt)\n",
    "\n",
    "str = \"The rain in Spain\"\n",
    "x = re.findall(\"ai\", str)\n",
    "print(x)\n",
    "\n",
    "str = \"The rain in Spain\"\n",
    "x = re.sub(\"\\s\", \"9\", str)\n",
    "print(x)"
   ]
  },
  {
   "cell_type": "code",
   "execution_count": 14,
   "metadata": {},
   "outputs": [
    {
     "name": "stdout",
     "output_type": "stream",
     "text": [
      "Variable z is not defined\n",
      "The 'try except' is finished\n"
     ]
    }
   ],
   "source": [
    "# try catch - exception handling\n",
    "try:\n",
    "    print(z)\n",
    "except NameError:\n",
    "    print(\"Variable z is not defined\")\n",
    "except:\n",
    "    print(\"Something else went wrong\")\n",
    "finally:\n",
    "    print(\"The 'try except' is finished\")"
   ]
  },
  {
   "cell_type": "code",
   "execution_count": 15,
   "metadata": {},
   "outputs": [
    {
     "name": "stdout",
     "output_type": "stream",
     "text": [
      "Enter your name:\n",
      "hi\n",
      "Hello  hi\n"
     ]
    }
   ],
   "source": [
    "print(\"Enter your name:\")\n",
    "x = input()\n",
    "print(\"Hello \", x)"
   ]
  },
  {
   "cell_type": "code",
   "execution_count": null,
   "metadata": {},
   "outputs": [],
   "source": []
  }
 ],
 "metadata": {
  "kernelspec": {
   "display_name": "Python 3",
   "language": "python",
   "name": "python3"
  },
  "language_info": {
   "codemirror_mode": {
    "name": "ipython",
    "version": 3
   },
   "file_extension": ".py",
   "mimetype": "text/x-python",
   "name": "python",
   "nbconvert_exporter": "python",
   "pygments_lexer": "ipython3",
   "version": "3.7.3"
  }
 },
 "nbformat": 4,
 "nbformat_minor": 2
}
